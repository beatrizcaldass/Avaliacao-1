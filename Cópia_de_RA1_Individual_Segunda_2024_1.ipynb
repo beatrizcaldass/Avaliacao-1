{
  "nbformat": 4,
  "nbformat_minor": 0,
  "metadata": {
    "colab": {
      "provenance": [],
      "include_colab_link": true
    },
    "kernelspec": {
      "name": "python3",
      "display_name": "Python 3"
    },
    "language_info": {
      "name": "python"
    }
  },
  "cells": [
    {
      "cell_type": "markdown",
      "metadata": {
        "id": "view-in-github",
        "colab_type": "text"
      },
      "source": [
        "<a href=\"https://colab.research.google.com/github/beatrizcaldass/Avaliacao-1/blob/main/C%C3%B3pia_de_RA1_Individual_Segunda_2024_1.ipynb\" target=\"_parent\"><img src=\"https://colab.research.google.com/assets/colab-badge.svg\" alt=\"Open In Colab\"/></a>"
      ]
    },
    {
      "cell_type": "markdown",
      "source": [
        "# Avaliação em INDIVIDUAL RA1 - 2024-1\n",
        "\n",
        "**Antes de começar, leia estas instruções cuidadosamente.**\n",
        "Esta avaliação é individual. Você poderá consultar qualquer fonte disponível na biblioteca, suas anotações ou na internet. Mas, não poderá consultar outras pessoas.\n",
        "\n",
        "Não existirão prorrogações de prazo de entrega.\n",
        "\n",
        "Trabalhos idênticos entregues por pessoas, diferentes, serão anulados.\n",
        "\n",
        "Todos os trabalhos serão entregues em uma cópia deste caderno de atividades na forma de um link postado no AVA da instituição (Canvas). Todos os enunciados devem ser preservados e você deverá inserir uma célula de textos com o **seu nome**, logo após esta célula de texto de instruções.\n",
        "\n",
        "Qualquer alteração do caderno contendo as suas respostas que seja registrada após a data de postagem provocará a anulação da avaliação.\n",
        "\n",
        "Você poderá usar, neste notebook, apenas a linguagem python limitada ao uso das seguintes bibliotecas: numpy, sympy, matplotlib, ipWidgets e IPython. Todo e qualquer gráfico deverá ser criado usando o Python.\n",
        "\n",
        "Entrega será realizada com a postagem de um link para um ambiente de execução, no AVA da institução. Neste link o seu caderno deve permitir ser executado (permissão de leitor). Serão aceitos links diretos ao ambiente do Google Colaboratory, ou Links a um caderno do Google Colaboratory que tenha sido salvo pelo próprio Google Colaboratory no GitHub. Links para outro ambiente, ou que requeiram qualquer tipo de download, cliques extras, ou ainda, que requeiram aprovação para acesso, provocarão a nota zero na avaliação.\n",
        "\n",
        "Para salvar a avaliação no GitHub, clique no menu _Arquivo_ e escolha a opção _Salvar uma Cópia no Github_. Para que isso funcione você precisa ter um repositório no Github. O link que você irá compartilhar será a url da página que o próprio Gooble Colab irá abrir depois de salvar suas respostas no Github.\n",
        "\n",
        "Se você encontrar algo errado nesta avaliação simplesmente anote suas observações na própria questão. Suas observações serão consideradas durante a avaliação e, em caso de pertinência, poderão encejar a anulação do item, ou da questão, a critério do professor.\n",
        "\n",
        "Não é permitido usar qualquer técnica matemática baseada em derivação, ou que fuja dos conteúdos apresenados em aula referente ao estudo de limites. Você pode usar a fórmula das diferenças finitas e todas as regras e identidades algébricas que sejam pertinentes ao cálculo de limites.\n",
        "\n",
        "**Lembrem-se a interpretação faz parte da questão.**"
      ],
      "metadata": {
        "id": "IYWLM47FgvAt"
      }
    },
    {
      "cell_type": "markdown",
      "source": [
        "## Questões\n",
        "\n",
        "Usando apenas álgebra encontre o limites solicitados a seguir e faça uma análise do resultado encontrados. Para fazer a análise você pode usar as ferramentas que desejar, desde que seja possível verificar a validade das suas afirmações usando apenas este caderno de avaliação.\n",
        "\n",
        "Lembre-se você deve usar notação matemática na sua resposta e todo o desenvolvimento deve estar explicitado (passo a passo). O que implica na obrigatoriedade do uso de Latex neste caderno de avaliação.\n",
        "\n",
        "Observe que o cálculo do valor do limite, usando uma calculadora, site, ou ferramenta qualquer, por si só não pode ser usado como argumento na sua análise. Isso quer dizer que justificativas como o limite é $w$ porque qualquer disse que era esse valor ou o limte é $w$ porque eu calculei usando o sympy, não serão aceitas.\n",
        "\n",
        "1. **Primeira Questão:**\n",
        "\n",
        "   $$\\lim_{{x \\to 0}} \\frac{1 - \\cos(x)}{x^2}$$\n",
        "\n",
        "2. **Segunda Questão:**\n",
        "\n",
        "   $$\\lim_{{x \\to 1}} \\frac{\\sqrt{x + 8} - 3}{x^2 - 1}$$\n",
        "\n",
        "3. **Terceira Questão:**\n",
        "  \n",
        "  $$\\lim_{h \\to 0} \\frac{(2 + h)^3 - 8}{h}$$\n",
        "\n",
        "4. **Quarta Questão:**\n",
        "  \n",
        "  $$\\lim_{t \\to 0} \\left( \\frac{1}{t\\sqrt{t + 1}} - \\frac{1}{t} \\right)$$\n",
        "\n",
        "**Rúbrica de avaliação**: cada limite corretamente determinado com a algebra demonstrada em notação matemática 1 ponto; cada análise consistente 1,5 pontos. Total 2.5 pontos por questão implicando em, no máximo 10 pontos."
      ],
      "metadata": {
        "id": "Hffk6Rtmhaga"
      }
    },
    {
      "cell_type": "markdown",
      "source": [
        "1. **Resposta**\n",
        "\n",
        "\n",
        "\n",
        "$$\\lim_{{x \\to 0}} \\frac{1 - \\cos(x)}{x^2}$$\n",
        "\n",
        "$$\\lim_{{x \\to 0}} \\frac{1 - \\cos(x)}{x^2} = \\lim_{{x \\to 0}} \\frac{\\frac{x^2}{2!} - \\frac{x^4}{4!} + \\ldots}{x^2}$$\n",
        "$$\\lim_{{x \\to 0}} \\left(\\frac{1}{2!} - \\frac{x^2}{4!} + \\ldots\\right)$$\n",
        "$$\\frac{1}{2!}$$\n",
        "$$= \\frac{1}{2}$$\n",
        "\n",
        "\n",
        "**Análise do resultado**\n",
        "\n",
        "A tabela exibe valores de aproximação à esquerda e à direita de 0 para a função\n",
        "$f(x) = \\frac{1 - \\cos(x)}{x^2}$.\n",
        "Ao examinar os valores apresentados, observamos que tanto para $x$ se aproximando de 0 pela esquerda quanto pela direita, os valores de $f(x)$ convergem para $0.5$.\n",
        "Isso sugere que o limite\n",
        "$\\lim_{{x \\to 0}} \\frac{1 - \\cos(x)}{x^2}$ é de fato igual a $0.5$.\n",
        "Essa conclusão é embasada na consistência dos valores de $f(x)$ à medida que $x$ se aproxima de 0 de diferentes direções, corroborando o resultado do limite.\n",
        "\n",
        "\n",
        "\n",
        "\n",
        "\n",
        "2. **Resposta**\n",
        "\n",
        "$$\\lim_{{x \\to 1}} \\frac{\\sqrt{x + 8} - 3}{x^2 - 1}$$\n",
        "**Multiplicação pelo conjugado da expressão do numerador:**\n",
        "$$\\lim_{{x \\to 1}} \\frac{\\sqrt{x + 8} - 3}{x^2 - 1} \\times \\frac{\\sqrt{x + 8} + 3}{\\sqrt{x + 8} + 3}$$\n",
        "**Simplificação do produto:**\n",
        "$$\\lim_{{x \\to 1}} \\frac{(\\sqrt{x + 8} - 3)(\\sqrt{x + 8} + 3)}{(x^2 - 1)(\\sqrt{x + 8} + 3)}$$\n",
        "**Simplificação do numerador:**\n",
        "$$\\lim_{{x \\to 1}} \\frac{(x + 8) - 3^2}{(x - 1)(x + 1)(\\sqrt{x + 8} + 3)}$$\n",
        "**Simplificação do numerador:**\n",
        "$$\\lim_{{x \\to 1}} \\frac{x + 8 - 9}{(x - 1)(x + 1)(\\sqrt{x + 8} + 3)}$$\n",
        "**Simplificação do numerador:**\n",
        "$$\\lim_{{x \\to 1}} \\frac{x - 1}{(x - 1)(x + 1)(\\sqrt{x + 8} + 3)}$$\n",
        "**Substituição de $x = 1$:**\n",
        "$$\\lim_{{x \\to 1}} \\frac{1}{(x + 1)(\\sqrt{x + 8} + 3)}$$\n",
        "**Simplificação:**\n",
        "$$\\frac{1}{(1 + 1)(\\sqrt{1 + 8} + 3)} = \\frac{1}{2(3 + 3)} = \\frac{1}{12}$$\n",
        "\n",
        "**Análise do resultado**\n",
        "\n",
        "A tabela mostra valores de aproximação à esquerda e à direita de 1 para a função\n",
        "$f(x) = \\frac{\\sqrt{x + 8} - 3}{x^2 - 1}$.\n",
        "Ao observar os valores, vemos que tanto para $x$ se aproximando de 1 pela esquerda quanto pela direita, os valores de $f(x)$ tendem a $0.08333$.\n",
        "Isso sugere que o limite\n",
        "$\\lim_{{x \\to 1}} \\frac{\\sqrt{x + 8} - 3}{x^2 - 1}$ é de fato igual a $0.08333$.\n",
        "Essa conclusão é baseada na consistência dos valores de $f(x)$ conforme $x$ se aproxima de 1 a partir de diferentes direções, validando o resultado do limite.\n",
        "\n",
        "\n",
        "\n",
        "3. **Resposta**\n",
        "\n",
        "\n",
        "$$\\lim_{{h \\to 0}} \\frac{(2 + h)^3 - 8}{h}$$\n",
        "**Expanção com a fórmula binomial de Newton**\n",
        "$$\\lim_{{h \\to 0}} \\frac{(8 + 12h + 6h^2 + h^3) - 8}{h}$$\n",
        "**Simplificação:**\n",
        "$$\\lim_{{h \\to 0}} \\frac{12h + 6h^2 + h^3}{h}$$\n",
        "**Simplificação**\n",
        "$$\\lim_{{h \\to 0}} (12 + 6h + h^2)$$\n",
        "**Substituição de h=0:**\n",
        "$$12 + 6 \\cdot 0 + 0^2$$\n",
        "$$= 12$$\n",
        "\n",
        "**Análise de resultado**\n",
        "A tabela mostra valores de aproximação à esquerda e à direita de 0 para a função\n",
        "$f(h) = \\frac{(2 + h)^3 - 8}{h}$.\n",
        "Ao examinar os valores apresentados, observamos que tanto para $h$ se aproximando de 0 pela esquerda quanto pela direita, os valores de $f(h)$ convergem para $12$.\n",
        "Isso sugere que o limite\n",
        "$\\lim_{{h \\to 0}} \\frac{(2 + h)^3 - 8}{h}$ é de fato igual a $12$.\n",
        "Essa conclusão é embasada na consistência dos valores de $f(h)$ à medida que $h$ se aproxima de 0 a partir de diferentes direções, corroborando o resultado do limite.\n",
        "\n",
        "\n",
        "\n",
        "4. **Resposta**\n",
        "\n",
        "\n",
        "$$\\lim_{{t \\to 0}} \\left( \\frac{1}{t\\sqrt{t + 1}} - \\frac{1}{t} \\right)$$\n",
        "**Racionalizando o denominador do primeiro termo:**\n",
        "$$\\lim_{{t \\to 0}} \\left( \\frac{1}{t\\sqrt{t + 1}} - \\frac{\\sqrt{t + 1}}{t\\sqrt{t + 1}} \\right)$$\n",
        "**Simplificando a expressão:**\n",
        "$$\\lim_{{t \\to 0}} \\frac{1 - \\sqrt{t + 1}}{t\\sqrt{t + 1}}$$\n",
        "**Multiplicando por $1$ na forma de $\\frac{1 + \\sqrt{t + 1}}{1 + \\sqrt{t + 1}}$:**\n",
        "$$\\lim_{{t \\to 0}} \\frac{1 - \\sqrt{t + 1}}{t\\sqrt{t + 1}} \\cdot \\frac{1 + \\sqrt{t + 1}}{1 + \\sqrt{t + 1}}$$\n",
        "**Simplificando a expressão:**\n",
        "$$\\lim_{{t \\to 0}} \\frac{1 - (t + 1)}{t\\sqrt{t + 1}(1 + \\sqrt{t + 1})}$$\n",
        "**Cancelando $t$ no numerador e no denominador:**\n",
        "$$\\lim_{{t \\to 0}} \\frac{-t}{t\\sqrt{t + 1}(1 + \\sqrt{t + 1})}$$\n",
        "**Cancelando $t$ no numerador e no denominador:**\n",
        "$$\\lim_{{t \\to 0}} \\frac{-1}{\\sqrt{t + 1}(1 + \\sqrt{t + 1})}$$\n",
        "**Substituindo $t = 0$**\n",
        "$$\\frac{-1}{\\sqrt{0 + 1}(1 + \\sqrt{0 + 1})}$$\n",
        "**Simplificação:**\n",
        "$$\\frac{-1}{\\sqrt{1}(1 + \\sqrt{1})}$$\n",
        "**Simplificação:**\n",
        "$$\\frac{-1}{1 \\cdot (1 + 1)}$$\n",
        "**Resultado:**\n",
        "$$= \\frac{-1}{2}$$\n",
        "\n",
        "\n",
        "**Análise do resultado**\n",
        "\n",
        "A tabela mostra valores de aproximação à esquerda e à direita de 0 para a função\n",
        "$f(t) = \\frac{1 - \\sqrt{t + 1}}{t\\sqrt{t + 1}(1 + \\sqrt{t + 1})}$.\n",
        "Ao observar os valores, vemos que tanto para $t$ se aproximando de 0 pela esquerda quanto pela direita, os valores de $f(t)$ tendem a $-\\frac{1}{2}$.\n",
        "Isso sugere que o limite\n",
        "$\\lim_{{t \\to 0}} \\left( \\frac{1}{t\\sqrt{t + 1}} - \\frac{1}{t} \\right)$ é de fato igual a $-\\frac{1}{2}$.\n",
        "Essa conclusão é baseada na consistência dos valores de $f(t)$ conforme $t$ se aproxima de 0 a partir de diferentes direções, validando o resultado do limite.\n",
        "\n",
        "\n",
        "\n",
        "\n"
      ],
      "metadata": {
        "id": "IWhN_CrQs-n8"
      }
    },
    {
      "cell_type": "code",
      "source": [
        "## TABELA DE LIMITES LATERAIS DA 1\n",
        "\n",
        "\n",
        "from sympy import symbols, cos\n",
        "from IPython.display import display, Math\n",
        "\n",
        "#Definindo a variável simbólica e a função\n",
        "x = symbols('x')\n",
        "f = (1 - cos(x))/x**2\n",
        "\n",
        "def criar_pontos_aproximacao(valor_limite, distancia=[0.1, 0.01, 0.001, 0.0001, 0.00001]):\n",
        "    pontos_esquerda = [valor_limite - d for d in distancia]\n",
        "    pontos_direita = [valor_limite + d for d in distancia]\n",
        "    return pontos_esquerda, pontos_direita\n",
        "\n",
        "pontos_esquerda, pontos_direita = criar_pontos_aproximacao(0)\n",
        "\n",
        "valores_esquerda = [f.subs(x, ponto).evalf() for ponto in pontos_esquerda]\n",
        "valores_direita = [f.subs(x, ponto).evalf() for ponto in pontos_direita]\n",
        "\n",
        "tabela_latex = \"$$\\\\begin{array}{|c|c|c|c|}\\n\"\n",
        "tabela_latex += \"\\\\hline\\n\"\n",
        "tabela_latex += \"\\\\text{Aprox. à Esquerda} & \\\\text{Valor} & \\\\text{Aprox. à Direita} & \\\\text{Valor} \\\\\\\\\\n\"\n",
        "tabela_latex += \"\\\\hline\\n\"\n",
        "for i in range(len(pontos_esquerda)):\n",
        "    tabela_latex += f\"{pontos_esquerda[i]:.5f} & {valores_esquerda[i]:.5f} & {pontos_direita[i]:.5f} & {valores_direita[i]:.5f} \\\\\\\\\\n\"\n",
        "tabela_latex += \"\\\\hline\\n\"\n",
        "tabela_latex += \"\\\\end{array}$$\"\n",
        "\n",
        "display(Math(tabela_latex))\n"
      ],
      "metadata": {
        "colab": {
          "base_uri": "https://localhost:8080/",
          "height": 140
        },
        "id": "bzwyYgfP8rZ3",
        "outputId": "b03f3d8e-65c5-4097-a4e4-89227f56ab9c"
      },
      "execution_count": 11,
      "outputs": [
        {
          "output_type": "display_data",
          "data": {
            "text/plain": [
              "<IPython.core.display.Math object>"
            ],
            "text/latex": "$\\displaystyle \\begin{array}{|c|c|c|c|}\n\\hline\n\\text{Aprox. à Esquerda} & \\text{Valor} & \\text{Aprox. à Direita} & \\text{Valor} \\\\\n\\hline\n-0.10000 & 0.49958 & 0.10000 & 0.49958 \\\\\n-0.01000 & 0.50000 & 0.01000 & 0.50000 \\\\\n-0.00100 & 0.50000 & 0.00100 & 0.50000 \\\\\n-0.00010 & 0.50000 & 0.00010 & 0.50000 \\\\\n-0.00001 & 0.50000 & 0.00001 & 0.50000 \\\\\n\\hline\n\\end{array}$"
          },
          "metadata": {}
        }
      ]
    },
    {
      "cell_type": "code",
      "source": [
        "## TABELA DE LIMITES LATERAIS DA 2\n",
        "\n",
        "\n",
        "from sympy import symbols, sqrt, limit\n",
        "from sympy.utilities.lambdify import lambdify\n",
        "from IPython.display import display, Math\n",
        "\n",
        "#Definindo a variável simbólica e a função\n",
        "x = symbols('x')\n",
        "f = (sqrt(x + 8) - 3) / (x**2 - 1)\n",
        "\n",
        "def criar_pontos_aproximacao(valor_limite, distancia=[0.1, 0.01, 0.001, 0.0001, 0.00001]):\n",
        "    pontos_esquerda = [valor_limite - d for d in distancia]\n",
        "    pontos_direita = [valor_limite + d for d in distancia]\n",
        "    return pontos_esquerda, pontos_direita\n",
        "\n",
        "pontos_esquerda, pontos_direita = criar_pontos_aproximacao(1)\n",
        "\n",
        "valores_esquerda = [f.subs(x, ponto).evalf() for ponto in pontos_esquerda]\n",
        "valores_direita = [f.subs(x, ponto).evalf() for ponto in pontos_direita]\n",
        "\n",
        "tabela_latex = \"\\\\begin{array}{|c|c|c|c|}\\n\"\n",
        "tabela_latex += \"\\\\hline\\n\"\n",
        "tabela_latex += \"\\\\text{Aprox. à Esquerda} & \\\\text{Valor} & \\\\text{Aprox. à Direita} & \\\\text{Valor} \\\\\\\\\\n\"\n",
        "tabela_latex += \"\\\\hline\\n\"\n",
        "for i in range(len(pontos_esquerda)):\n",
        "    tabela_latex += f\"{pontos_esquerda[i]:.5f} & {valores_esquerda[i]:.5f} & {pontos_direita[i]:.5f} & {valores_direita[i]:.5f} \\\\\\\\\\n\"\n",
        "tabela_latex += \"\\\\hline\\n\"\n",
        "tabela_latex += \"\\\\end{array}\"\n",
        "\n",
        "display(Math(tabela_latex))\n"
      ],
      "metadata": {
        "colab": {
          "base_uri": "https://localhost:8080/",
          "height": 140
        },
        "id": "4KH7N9H35gsq",
        "outputId": "66f7c722-b525-4361-d3fa-6ec0f7232254"
      },
      "execution_count": 5,
      "outputs": [
        {
          "output_type": "display_data",
          "data": {
            "text/plain": [
              "<IPython.core.display.Math object>"
            ],
            "text/latex": "$\\displaystyle \\begin{array}{|c|c|c|c|}\n\\hline\n\\text{Aprox. à Esquerda} & \\text{Valor} & \\text{Aprox. à Direita} & \\text{Valor} \\\\\n\\hline\n0.90000 & 0.08796 & 1.10000 & 0.07915 \\\\\n0.99000 & 0.08378 & 1.01000 & 0.08290 \\\\\n0.99900 & 0.08338 & 1.00100 & 0.08329 \\\\\n0.99990 & 0.08334 & 1.00010 & 0.08333 \\\\\n0.99999 & 0.08333 & 1.00001 & 0.08333 \\\\\n\\hline\n\\end{array}$"
          },
          "metadata": {}
        }
      ]
    },
    {
      "cell_type": "code",
      "source": [
        "from sympy import symbols\n",
        "from IPython.display import display, Math\n",
        "\n",
        "# Definindo a variável simbólica e a função\n",
        "h = symbols('h')\n",
        "f = (2 + h)**3 - 8\n",
        "\n",
        "def criar_pontos_aproximacao(valor_limite, distancia=[0.1, 0.01, 0.001, 0.0001, 0.00001]):\n",
        "    pontos_esquerda = [valor_limite - d for d in distancia]\n",
        "    pontos_direita = [valor_limite + d for d in distancia]\n",
        "    return pontos_esquerda, pontos_direita\n",
        "\n",
        "pontos_esquerda, pontos_direita = criar_pontos_aproximacao(0)\n",
        "\n",
        "valores_esquerda = [(2 + ponto)**3 - 8 for ponto in pontos_esquerda]\n",
        "valores_direita = [(2 + ponto)**3 - 8 for ponto in pontos_direita]\n",
        "\n",
        "tabela_latex = \"\\\\begin{array}{|c|c|c|c|}\\n\"\n",
        "tabela_latex += \"\\\\hline\\n\"\n",
        "tabela_latex += \"\\\\text{Aprox. à Esquerda} & \\\\text{Valor} & \\\\text{Aprox. à Direita} & \\\\text{Valor} \\\\\\\\\\n\"\n",
        "tabela_latex += \"\\\\hline\\n\"\n",
        "for i in range(len(pontos_esquerda)):\n",
        "    tabela_latex += f\"{pontos_esquerda[i]:.5f} & {valores_esquerda[i]:.5f} & {pontos_direita[i]:.5f} & {valores_direita[i]:.5f} \\\\\\\\\\n\"\n",
        "tabela_latex += \"\\\\hline\\n\"\n",
        "tabela_latex += \"\\\\end{array}\"\n",
        "\n",
        "display(Math(tabela_latex))\n"
      ],
      "metadata": {
        "colab": {
          "base_uri": "https://localhost:8080/",
          "height": 140
        },
        "id": "zAWqwzBy6SZE",
        "outputId": "02b80b18-f237-443e-b9d3-10c53b7a8ccf"
      },
      "execution_count": 12,
      "outputs": [
        {
          "output_type": "display_data",
          "data": {
            "text/plain": [
              "<IPython.core.display.Math object>"
            ],
            "text/latex": "$\\displaystyle \\begin{array}{|c|c|c|c|}\n\\hline\n\\text{Aprox. à Esquerda} & \\text{Valor} & \\text{Aprox. à Direita} & \\text{Valor} \\\\\n\\hline\n-0.10000 & -1.14100 & 0.10000 & 1.26100 \\\\\n-0.01000 & -0.11940 & 0.01000 & 0.12060 \\\\\n-0.00100 & -0.01199 & 0.00100 & 0.01201 \\\\\n-0.00010 & -0.00120 & 0.00010 & 0.00120 \\\\\n-0.00001 & -0.00012 & 0.00001 & 0.00012 \\\\\n\\hline\n\\end{array}$"
          },
          "metadata": {}
        }
      ]
    },
    {
      "cell_type": "code",
      "source": [
        "## TABELA DE LIMITES LATERAIS DA 4\n",
        "\n",
        "\n",
        "\n",
        "from sympy import symbols, limit, sqrt\n",
        "from sympy.utilities.lambdify import lambdify\n",
        "from IPython.display import display, Math\n",
        "\n",
        "# Definindo a variável simbólica e a função\n",
        "t = symbols('t')\n",
        "f = (1 - sqrt(t + 1)) / (t * sqrt(t + 1) * (1 + sqrt(t + 1)))\n",
        "\n",
        "def criar_pontos_aproximacao(valor_limite, distancia=[0.1, 0.01, 0.001, 0.0001, 0.00001]):\n",
        "    pontos_esquerda = [valor_limite - d for d in distancia]\n",
        "    pontos_direita = [valor_limite + d for d in distancia]\n",
        "    return pontos_esquerda, pontos_direita\n",
        "\n",
        "pontos_esquerda, pontos_direita = criar_pontos_aproximacao(0)\n",
        "\n",
        "valores_esquerda = [f.subs(t, ponto).evalf() for ponto in pontos_esquerda]\n",
        "valores_direita = [f.subs(t, ponto).evalf() for ponto in pontos_direita]\n",
        "\n",
        "tabela_latex = \"\\\\begin{array}{|c|c|c|c|}\\n\"\n",
        "tabela_latex += \"\\\\hline\\n\"\n",
        "tabela_latex += \"\\\\text{Aprox. à Esquerda} & \\\\text{Valor} & \\\\text{Aprox. à Direita} & \\\\text{Valor} \\\\\\\\\\n\"\n",
        "tabela_latex += \"\\\\hline\\n\"\n",
        "for i in range(len(pontos_esquerda)):\n",
        "    tabela_latex += f\"{pontos_esquerda[i]:.5f} & {valores_esquerda[i]:.5f} & {pontos_direita[i]:.5f} & {valores_direita[i]:.5f} \\\\\\\\\\n\"\n",
        "tabela_latex += \"\\\\hline\\n\"\n",
        "tabela_latex += \"\\\\end{array}\"\n",
        "\n",
        "display(Math(tabela_latex))\n"
      ],
      "metadata": {
        "colab": {
          "base_uri": "https://localhost:8080/",
          "height": 140
        },
        "id": "sKSTHeuP3fhp",
        "outputId": "4839e6fd-4027-460e-cc76-1cf96811c953"
      },
      "execution_count": 4,
      "outputs": [
        {
          "output_type": "display_data",
          "data": {
            "text/plain": [
              "<IPython.core.display.Math object>"
            ],
            "text/latex": "$\\displaystyle \\begin{array}{|c|c|c|c|}\n\\hline\n\\text{Aprox. à Esquerda} & \\text{Valor} & \\text{Aprox. à Direita} & \\text{Valor} \\\\\n\\hline\n-0.10000 & -0.27759 & 0.10000 & -0.22714 \\\\\n-0.01000 & -0.25252 & 0.01000 & -0.24752 \\\\\n-0.00100 & -0.25025 & 0.00100 & -0.24975 \\\\\n-0.00010 & -0.25003 & 0.00010 & -0.24998 \\\\\n-0.00001 & -0.25000 & 0.00001 & -0.25000 \\\\\n\\hline\n\\end{array}$"
          },
          "metadata": {}
        }
      ]
    },
    {
      "cell_type": "code",
      "source": [],
      "metadata": {
        "id": "1gXb3l0L4bk2"
      },
      "execution_count": null,
      "outputs": []
    }
  ]
}